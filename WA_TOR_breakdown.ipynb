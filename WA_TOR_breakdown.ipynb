{
 "cells": [
  {
   "attachments": {},
   "cell_type": "markdown",
   "metadata": {},
   "source": [
    "#  Regles WA_TOR"
   ]
  },
  {
   "attachments": {},
   "cell_type": "markdown",
   "metadata": {},
   "source": [
    "### TIME\n",
    "\n",
    "\n",
    "- Time_unit = chronon\n",
    "    - 1 chronon = 1 move\n",
    "\n",
    "### PLANET SURFACE\n",
    "\n",
    "- 2D grid\n",
    "- 3 colors\n",
    "    - 1 for fish\n",
    "    - 1 for shark\n",
    "    - 1 for empty\n",
    "- If object moves out of grid\n",
    "    - appear at the oposite side of it.\n",
    "\n",
    "\n",
    "\n",
    "\n",
    "\n",
    "### GENERAL RULES\n",
    "- All fish can move => East, South, West, North.\n",
    "\n",
    "- 1 move per chronon\n",
    "\n",
    "- Fish or Shark exists X number of chronon\n",
    "    - Fish or Shark reproduce\n",
    "        - when Fish or Shark reproduce\n",
    "            - Next possible move leave a Fish or Shark in old position.\n",
    "            - Reproduction timer reset to 0.\n",
    "\n",
    "### FISH RULES\n",
    "\n",
    "\n",
    "\n",
    "- If no Fish or Shark already on the spot where fish wants to move.\n",
    "    - Fish can move\n",
    "\n",
    "- randint() makes the choice where the fish will move if there is choice.\n",
    "\n",
    "- if no spots available fish does not move.\n",
    "\n",
    "- if Fish eaten by Shark\n",
    "    - it cesse to exist (die)\n",
    "\n",
    "\n",
    "### SHARK RULES\n",
    "- If Fish in range of Shark movement range.\n",
    "    - Shark moves to Fish and eat it.\n",
    "    - randint() choose the moving spot where there is no Shark.\n",
    "        - randtint() chose between spots with Fish if there is several spots with Fish in range of Shark movement.\n",
    "    - If all neighbor spots occupied\n",
    "        - no move takes place.\n",
    "\n",
    "- Each chronon deprives Shark of X energy\n",
    "    - reaching 0 energy kills the Shark (die)\n",
    "\n",
    "- If Shark eat Fish\n",
    "    - Shark gains 1 energy.\n",
    "\n",
    "\n",
    "\n",
    "\n"
   ]
  },
  {
   "cell_type": "markdown",
   "metadata": {},
   "source": [
    "# CONSIGNES"
   ]
  },
  {
   "attachments": {},
   "cell_type": "markdown",
   "metadata": {},
   "source": [
    "- SHARK EN ROUGE\n",
    "- FISH EN VERT\n",
    "- Position de départ des Fish et Shark sont aléatoire sur la grille.\n",
    "- 1 ACTION par Chronon\n",
    "- le Shark mange meme si il est au max de son energie.\n"
   ]
  },
  {
   "cell_type": "code",
   "execution_count": null,
   "metadata": {},
   "outputs": [],
   "source": []
  }
 ],
 "metadata": {
  "kernelspec": {
   "display_name": "Python 3",
   "language": "python",
   "name": "python3"
  },
  "language_info": {
   "name": "python",
   "version": "3.10.6 (main, Nov 14 2022, 16:10:14) [GCC 11.3.0]"
  },
  "orig_nbformat": 4,
  "vscode": {
   "interpreter": {
    "hash": "916dbcbb3f70747c44a77c7bcd40155683ae19c65e1c03b4aa3499c5328201f1"
   }
  }
 },
 "nbformat": 4,
 "nbformat_minor": 2
}
