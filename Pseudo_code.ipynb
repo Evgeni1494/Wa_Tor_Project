{
 "cells": [
  {
   "cell_type": "markdown",
   "metadata": {},
   "source": [
    "# NOS CLASSES\n",
    "\n",
    "- Monde\n",
    "- Grille\n",
    "- Poisson\n",
    "- Thon\n",
    "- Requin\n",
    "\n",
    "\n",
    "\n",
    "\n",
    "\n"
   ]
  },
  {
   "attachments": {},
   "cell_type": "markdown",
   "metadata": {},
   "source": [
    "### TIMELINE DU JEU\n",
    "    \n",
    "On va initialiser l'affichage de la grille.\n",
    "    \n",
    "    On place les requins et les thons.\n",
    "    \n",
    "    On initialiser le temps (chronon)\n",
    "\n",
    "    Decompte pour la reproduction -1\n",
    "    \n",
    "    On fait se deplacer les poissons\n",
    "        - Requin en premier\n",
    "            - Priorité a une case avec un Thon pour le Requin.\n",
    "        - Thon en second.\n",
    "            - Choix d'une des 4 directions aléatoire pour le Thon\n",
    "    \n",
    "        \n",
    "    On enleve de l'energie au requin.\n",
    "    \n",
    "    On vérifie si un requin est mort.\n",
    "    \n",
    "    On verifie si il y a eu reproduction.\n",
    "        - en fonction de chronons\n",
    "        \n",
    "    On resoud les intéractions Thon - Requin\n",
    "        - Voir si Requin a mangé un Thon.\n",
    "            - Si Vrai il regagne de l'energie.\n",
    "    \n",
    "    On augmente le compteur de chronons globale.\n",
    "\n",
    "    La boucle recommence\n",
    "\n"
   ]
  }
 ],
 "metadata": {
  "kernelspec": {
   "display_name": "Python 3",
   "language": "python",
   "name": "python3"
  },
  "language_info": {
   "codemirror_mode": {
    "name": "ipython",
    "version": 3
   },
   "file_extension": ".py",
   "mimetype": "text/x-python",
   "name": "python",
   "nbconvert_exporter": "python",
   "pygments_lexer": "ipython3",
   "version": "3.10.6"
  },
  "orig_nbformat": 4,
  "vscode": {
   "interpreter": {
    "hash": "916dbcbb3f70747c44a77c7bcd40155683ae19c65e1c03b4aa3499c5328201f1"
   }
  }
 },
 "nbformat": 4,
 "nbformat_minor": 2
}
