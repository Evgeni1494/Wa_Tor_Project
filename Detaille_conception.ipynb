{
 "cells": [
  {
   "attachments": {},
   "cell_type": "markdown",
   "metadata": {},
   "source": [
    "### Monde :\n",
    "    - Grille :\n",
    "        - taille 10*10.\n",
    "        - doit s'afficher.\n",
    "\n",
    "    - Chronon :\n",
    "        - compteur.\n",
    "    \n",
    "    - Placement de départ.\n",
    "\n",
    "### Poisson\n",
    "    - Deplacement\n",
    "        - 4 directions \n",
    "        - 1 case par chronon\n",
    "        - impossible si case déja occupé\n",
    "        - ordre de déplacement.\n",
    "            - Liste/Dico d'animaux.\n",
    "\n",
    "    - Reproduction\n",
    "        - tout les X chronons\n",
    "        - une fois le déplacement fait laisse un poisson sur la case precedente.\n",
    "        - Countdown\n",
    "    - Mort\n",
    "        - cesse d'exister\n",
    "### Thon\n",
    "    \n",
    "    - deplacment comme chez poisson\n",
    "    \n",
    "    - Mort\n",
    "        - remplacé par le requin.\n",
    "\n",
    "### Requin\n",
    "    - décliner déplacement\n",
    "        - Priorité case ou il y a poisson\n",
    "\n",
    "    - décliner Mort\n",
    "        - case devient vide \n",
    "        - meurs a 0 energie.\n",
    "    - Energie\n",
    "        - max d'energie\n",
    "        - gain par Thon mangé\n",
    "        - perte d'energie deplacement.\n",
    "\n",
    "\n",
    "\n",
    "\n",
    "\n",
    "\n",
    "\n"
   ]
  }
 ],
 "metadata": {
  "language_info": {
   "name": "python"
  },
  "orig_nbformat": 4
 },
 "nbformat": 4,
 "nbformat_minor": 2
}
