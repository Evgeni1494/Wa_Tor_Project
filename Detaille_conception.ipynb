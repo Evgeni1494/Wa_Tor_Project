{
 "cells": [
  {
   "attachments": {},
   "cell_type": "markdown",
   "metadata": {},
   "source": [
    "### Monde :\n",
    "    - Grille :\n",
    "        - taille 10*10.\n",
    "        - doit s'afficher.\n",
    "\n",
    "    - Chronon :\n",
    "        - compteur.\n",
    "    \n",
    "    - Placement de départ.\n",
    "\n",
    "### Poisson\n",
    "    - Deplacement\n",
    "        - 4 directions \n",
    "        - 1 case par chronon\n",
    "        - impossible si case déja occupé\n",
    "        - ordre de déplacement.\n",
    "            - Liste/Dico d'animaux.\n",
    "\n",
    "    - Reproduction\n",
    "        - tout les X chronons\n",
    "        - une fois le déplacement fait laisse un poisson sur la case precedente.\n",
    "        - Countdown\n",
    "    - Mort\n",
    "        - cesse d'exister\n",
    "### Thon\n",
    "    \n",
    "    - deplacment comme chez poisson\n",
    "    \n",
    "    - Mort\n",
    "        - remplacé par le requin.\n",
    "\n",
    "### Requin\n",
    "    - décliner déplacement\n",
    "        - Priorité case ou il y a poisson\n",
    "\n",
    "    - décliner Mort\n",
    "        - case devient vide \n",
    "        - meurs a 0 energie.\n",
    "    - Energie\n",
    "        - max d'energie\n",
    "        - gain par Thon mangé\n",
    "        - perte d'energie deplacement.\n",
    "\n",
    "\n",
    "\n",
    "\n",
    "\n",
    "\n",
    "\n"
   ]
  },
  {
   "cell_type": "markdown",
   "metadata": {},
   "source": [
    "## LES NOMS"
   ]
  },
  {
   "attachments": {},
   "cell_type": "markdown",
   "metadata": {},
   "source": [
    "### CLASSES\n",
    "    - Monde\n",
    "    - Poisson\n",
    "    - Requin\n",
    "    - Thon\n",
    "\n",
    "\n",
    "### Les attributs\n",
    "requin = requin\n",
    "grille = grille\n",
    "chronon = chronon\n",
    "thon = thon\n",
    "\n",
    "### Methodes\n",
    "placement de depart = placement_de_depart\n",
    "mort de thon = mort_de_thon\n",
    "\n",
    "\n",
    "https://prod.liveshare.vsengsaas.visualstudio.com/join?B27C3310256D67E4ACD39BEC10C56668D7AF\n"
   ]
  },
  {
   "cell_type": "code",
   "execution_count": 7,
   "metadata": {},
   "outputs": [
    {
     "data": {
      "text/plain": [
       "<function __main__.Monde.afficher_grille(self, grille)>"
      ]
     },
     "execution_count": 7,
     "metadata": {},
     "output_type": "execute_result"
    }
   ],
   "source": [
    "class Monde:\n",
    "    \n",
    "    \n",
    "    grille = {}\n",
    "    def __init__(self, grille, placement_de_depart, chronon) -> None:\n",
    "        self.grille = grille\n",
    "        self.placement_de_depart = placement_de_depart\n",
    "        self.chronon = chronon\n",
    "    \n",
    "    def afficher_grille(self, grille):\n",
    "        for i in range(1,101):\n",
    "            grille[i] = \" \"\n",
    "        return(grille)\n",
    "        \n",
    "    \n",
    "Monde.afficher_grille\n",
    "    \n",
    "    \n",
    "\n",
    "# def creerGrille(nombreLignes, nombreColonnes):\n",
    "#     grid = [[]] * nombreLignes\n",
    "#     for ligne in range(nombreLignes):\n",
    "#         grid[ligne] = [0] * nombreColonnes\n",
    "#     return grid\n",
    "\n",
    "\n",
    "# creerGrille(10,10)\n",
    "    \n",
    "    \n",
    "    \n",
    "    \n"
   ]
  },
  {
   "attachments": {},
   "cell_type": "markdown",
   "metadata": {},
   "source": [
    "# NOUVELLES CLASSES\n",
    "\n",
    "- Monde\n",
    "- Grille\n",
    "- Poisson\n",
    "- Thon\n",
    "- Requin\n"
   ]
  }
 ],
 "metadata": {
  "kernelspec": {
   "display_name": "Python 3",
   "language": "python",
   "name": "python3"
  },
  "language_info": {
   "codemirror_mode": {
    "name": "ipython",
    "version": 3
   },
   "file_extension": ".py",
   "mimetype": "text/x-python",
   "name": "python",
   "nbconvert_exporter": "python",
   "pygments_lexer": "ipython3",
   "version": "3.10.6 (main, Nov 14 2022, 16:10:14) [GCC 11.3.0]"
  },
  "orig_nbformat": 4,
  "vscode": {
   "interpreter": {
    "hash": "916dbcbb3f70747c44a77c7bcd40155683ae19c65e1c03b4aa3499c5328201f1"
   }
  }
 },
 "nbformat": 4,
 "nbformat_minor": 2
}
