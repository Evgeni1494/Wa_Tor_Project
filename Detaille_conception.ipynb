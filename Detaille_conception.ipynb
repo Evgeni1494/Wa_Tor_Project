{
 "cells": [
  {
   "attachments": {},
   "cell_type": "markdown",
   "metadata": {},
   "source": [
    "### Monde :\n",
    "    - Grille :\n",
    "        - taille 10*10.\n",
    "        - doit s'afficher.\n",
    "\n",
    "    - Chronon :\n",
    "        - compteur.\n",
    "    \n",
    "    - Placement de départ.\n",
    "\n",
    "### Poisson\n",
    "    - Deplacement\n",
    "        - 4 directions \n",
    "        - 1 case par chronon\n",
    "        - impossible si case déja occupé\n",
    "        - ordre de déplacement.\n",
    "            - Liste/Dico d'animaux.\n",
    "\n",
    "    - Reproduction\n",
    "        - tout les X chronons\n",
    "        - une fois le déplacement fait laisse un poisson sur la case precedente.\n",
    "        - Countdown\n",
    "    - Mort\n",
    "        - cesse d'exister\n",
    "### Thon\n",
    "    \n",
    "    - deplacment comme chez poisson\n",
    "    \n",
    "    - Mort\n",
    "        - remplacé par le requin.\n",
    "\n",
    "### Requin\n",
    "    - décliner déplacement\n",
    "        - Priorité case ou il y a poisson\n",
    "\n",
    "    - décliner Mort\n",
    "        - case devient vide \n",
    "        - meurs a 0 energie.\n",
    "    - Energie\n",
    "        - max d'energie\n",
    "        - gain par Thon mangé\n",
    "        - perte d'energie deplacement.\n",
    "\n",
    "\n",
    "\n",
    "\n",
    "\n",
    "\n",
    "\n"
   ]
  }
 ],
 "metadata": {
  "kernelspec": {
   "display_name": "Python 3",
   "language": "python",
   "name": "python3"
  },
  "language_info": {
   "name": "python",
   "version": "3.10.6 (main, Nov 14 2022, 16:10:14) [GCC 11.3.0]"
  },
  "orig_nbformat": 4,
  "vscode": {
   "interpreter": {
    "hash": "916dbcbb3f70747c44a77c7bcd40155683ae19c65e1c03b4aa3499c5328201f1"
   }
  }
 },
 "nbformat": 4,
 "nbformat_minor": 2
}
